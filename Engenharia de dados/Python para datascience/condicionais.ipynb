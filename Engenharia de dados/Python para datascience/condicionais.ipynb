{
 "cells": [
  {
   "cell_type": "markdown",
   "metadata": {},
   "source": [
    "## Aula 3 - Estruturas condicionais"
   ]
  },
  {
   "cell_type": "markdown",
   "metadata": {},
   "source": [
    "### Aquecendo na programação"
   ]
  },
  {
   "cell_type": "markdown",
   "metadata": {},
   "source": [
    "#### Questão 1\n",
    "Escreva um programa que peça à pessoa usuária para fornecer dois números e exibir o número maior."
   ]
  },
  {
   "cell_type": "code",
   "execution_count": 3,
   "metadata": {},
   "outputs": [
    {
     "name": "stdout",
     "output_type": "stream",
     "text": [
      "O maior número é:  6.15\n"
     ]
    }
   ],
   "source": [
    "x = float(input('Digite o primeiro numero:'))\n",
    "y = float(input('Digite o segundo numero:'))\n",
    "\n",
    "if(x>y):\n",
    "    maior = x\n",
    "else:\n",
    "    maior = y\n",
    "\n",
    "print('O maior número é: ', maior)"
   ]
  },
  {
   "cell_type": "markdown",
   "metadata": {},
   "source": [
    "#### Questão 2\n",
    "Escreva um programa que solicite o percentual de crescimento de produção de uma empresa e informe se houve um crescimento (porcentagem positiva) ou decrescimento (porcentagem negativa)."
   ]
  },
  {
   "cell_type": "code",
   "execution_count": 8,
   "metadata": {},
   "outputs": [
    {
     "name": "stdout",
     "output_type": "stream",
     "text": [
      "Nesse período, houve decrescimento que foi de -10.0 %\n"
     ]
    }
   ],
   "source": [
    "x = float(input('Qual foi o percentual de crescimento de produção da empresa?'))\n",
    "\n",
    "if (x>0):\n",
    "    resultado = 'houve crescimento'\n",
    "elif (x==0):\n",
    "    resultado = 'não houve crescimento nem decrescimento'\n",
    "else:\n",
    "    resultado = 'houve decrescimento'\n",
    "\n",
    "print('Nesse período,', resultado, 'que foi de', (x*100), '%')"
   ]
  },
  {
   "cell_type": "markdown",
   "metadata": {},
   "source": [
    "#### Questão 3\n",
    "Escreva um programa que determine se uma letra fornecida pela pessoa usuária é uma vogal ou consoante."
   ]
  },
  {
   "cell_type": "code",
   "execution_count": null,
   "metadata": {},
   "outputs": [
    {
     "name": "stdout",
     "output_type": "stream",
     "text": [
      "A letra f é uma consoante\n"
     ]
    }
   ],
   "source": [
    "x = input('Digite uma letra').lower\n",
    "\n",
    "if (x in ('a', 'e', 'i', 'o', 'u')):\n",
    "    resultado = 'vogal'\n",
    "else:\n",
    "    resultado = 'consoante'\n",
    "\n",
    "print('A letra', x, 'é uma', resultado)"
   ]
  },
  {
   "cell_type": "markdown",
   "metadata": {},
   "source": [
    "#### Questão 4\n",
    "Escreva um programa que leia valores médios de preços de um modelo de carro por 3 anos consecutivos e exiba o valor mais alto e mais baixo entre esses três anos."
   ]
  },
  {
   "cell_type": "code",
   "execution_count": 11,
   "metadata": {},
   "outputs": [
    {
     "name": "stdout",
     "output_type": "stream",
     "text": [
      "Nesse período, o maior valor foi de 60.0 e o menor foi de 30.0\n"
     ]
    }
   ],
   "source": [
    "x = float(input('Qual foi valor do carro no primeiro ano?'))\n",
    "y = float(input('Qual foi valor do carro no segundo ano?'))\n",
    "z = float(input('Qual foi valor do carro no terceiro ano?'))\n",
    "\n",
    "maior = x\n",
    "if (y > maior):\n",
    "    maior= y\n",
    "if(z > maior):\n",
    "    maior = z\n",
    "\n",
    "menor = x\n",
    "if (y < menor):\n",
    "    menor = y\n",
    "if(z < menor):\n",
    "    menor = z\n",
    "\n",
    "print('Nesse período, o maior valor foi de', maior, 'e o menor foi de', menor)"
   ]
  },
  {
   "cell_type": "markdown",
   "metadata": {},
   "source": [
    "#### Questão 5\n",
    "Escreva um programa que pergunte sobre o preço de três produtos e indique qual é o produto mais barato para comprar."
   ]
  },
  {
   "cell_type": "code",
   "execution_count": null,
   "metadata": {},
   "outputs": [
    {
     "name": "stdout",
     "output_type": "stream",
     "text": [
      "Os produto mais baratos são o primeiro e o terceiro que possuem mesmo preço\n"
     ]
    }
   ],
   "source": [
    "x = float(input('Digite um número:'))\n",
    "y = float(input('Digite um número:'))\n",
    "z = float(input('Digite um número:'))\n",
    "\n",
    "menor = x\n",
    "if (x < y and x < z):\n",
    "    print('O produto mais barato é o primeiro')\n",
    "elif (y < x and y < z):\n",
    "    print('O produto mais barato é o segundo')\n",
    "elif (z < y and z < x):\n",
    "    print('O produto mais barato é o terceiro')\n",
    "elif (x==y==z):\n",
    "    print('Todos os produtos possuem o mesmo preço')\n",
    "else:\n",
    "    if(x == y and x < z):\n",
    "        print('Os produto mais baratos são o primeiro e o segundo que possuem mesmo preço')\n",
    "    elif(x < y and x == z):\n",
    "        print('Os produto mais baratos são o primeiro e o terceiro que possuem mesmo preço')\n",
    "    elif(x > y and y == z):\n",
    "        print('Os produto mais baratos são o segundo e o teceiroque possuem mesmo preço')\n",
    "\n"
   ]
  },
  {
   "cell_type": "markdown",
   "metadata": {},
   "source": [
    "#### Questão 6\n",
    "Escreva um programa que leia três números e os exiba em ordem decrescente."
   ]
  },
  {
   "cell_type": "code",
   "execution_count": null,
   "metadata": {},
   "outputs": [],
   "source": [
    "y = float(input('Qual é o preço do segundo produto?'))\n",
    "x = float(input('Qual é o preço do primeiro produto?'))\n",
    "z = float(input('Qual é o preço do terceiro produto?'))\n",
    "\n",
    "if (x < y and x < z):\n",
    "    print('O produto mais barato é o primeiro')\n",
    "elif (y < x and y < z):\n",
    "    print('O produto mais barato é o segundo')\n",
    "elif (z < y and z < x):\n",
    "    print('O produto mais barato é o terceiro')\n",
    "elif (x==y==z):\n",
    "    print('Todos os produtos possuem o mesmo preço')\n",
    "else:\n",
    "    if(x == y and x < z):\n",
    "        print('Os produto mais baratos são o primeiro e o segundo que possuem mesmo preço')\n",
    "    elif(x < y and x == z):\n",
    "        print('Os produto mais baratos são o primeiro e o terceiro que possuem mesmo preço')\n",
    "    elif(x > y and y == z):\n",
    "        print('Os produto mais baratos são o segundo e o teceiro que possuem mesmo preço')"
   ]
  },
  {
   "cell_type": "markdown",
   "metadata": {},
   "source": [
    "#### Questão 7\n",
    "Escreva um programa que pergunte em qual turno a pessoa usuária estuda (\"manhã\", \"tarde\" ou \"noite\") e exiba a mensagem \"Bom Dia!\", \"Boa Tarde!\", \"Boa Noite!\", ou \"Valor Inválido!\", conforme o caso."
   ]
  },
  {
   "cell_type": "code",
   "execution_count": 14,
   "metadata": {},
   "outputs": [
    {
     "name": "stdout",
     "output_type": "stream",
     "text": [
      "Bom dia!\n"
     ]
    }
   ],
   "source": [
    "turno = input('Qual é o turno que você estuda?').lower()\n",
    "\n",
    "if (turno == 'manha'):\n",
    "    print('Bom dia!')\n",
    "elif (turno == 'tarde'):\n",
    "    print('Boa tarde!')\n",
    "elif (turno == 'noite'):\n",
    "    print('Boa noite!')\n",
    "else:\n",
    "    print('Valor Inválido!')"
   ]
  },
  {
   "cell_type": "markdown",
   "metadata": {},
   "source": [
    "#### Questão 8\n",
    "Escreva um programa que peça um número inteiro à pessoa usuária e determine se ele é par ou ímpar. Dica: Você pode utilizar o operador módulo `%`."
   ]
  },
  {
   "cell_type": "code",
   "execution_count": 17,
   "metadata": {},
   "outputs": [
    {
     "name": "stdout",
     "output_type": "stream",
     "text": [
      "O número é ímpar\n"
     ]
    }
   ],
   "source": [
    "x = int(input('Digite um número inteiro:'))\n",
    "\n",
    "if(x==0):    \n",
    "    print('O número não é par nem ímpar')\n",
    "elif ((x%2) == 0):\n",
    "    print('O número é par')\n",
    "else:\n",
    "    print('O número é ímpar')"
   ]
  },
  {
   "cell_type": "markdown",
   "metadata": {},
   "source": [
    "#### Questão 9\n",
    "Escreva um programa que peça um número à pessoa usuária e informe se ele é inteiro ou decimal."
   ]
  },
  {
   "cell_type": "code",
   "execution_count": 19,
   "metadata": {},
   "outputs": [
    {
     "name": "stdout",
     "output_type": "stream",
     "text": [
      "O número é decimal\n"
     ]
    }
   ],
   "source": [
    "x = float(input('Digite um número: '))\n",
    "\n",
    "if(x==0):    \n",
    "    print('O número é zero')\n",
    "elif ((x%1) == 0):\n",
    "    print('O número inteiro')\n",
    "else:\n",
    "    print('O número é decimal')"
   ]
  },
  {
   "cell_type": "markdown",
   "metadata": {},
   "source": [
    "### Momento dos projetos"
   ]
  },
  {
   "cell_type": "markdown",
   "metadata": {},
   "source": [
    "#### Questão 10\n",
    "Um programa deve ser escrito para ler dois números e, em seguida, perguntar à pessoa usuária qual operação ele deseja realizar. O resultado da operação deve incluir informações sobre o número - se é par ou ímpar, positivo ou negativo e inteiro ou decimal."
   ]
  },
  {
   "cell_type": "code",
   "execution_count": 21,
   "metadata": {},
   "outputs": [
    {
     "name": "stdout",
     "output_type": "stream",
     "text": [
      "O resultado da operação matemática foi 6.0 que é um número: inteiro , par e positivo\n"
     ]
    }
   ],
   "source": [
    "x = float(input('Digite o primeiro número: '))\n",
    "y = float(input('Digite o segundo número: '))\n",
    "operacao = input('Qual operacao desejada: (+, -, *, /)?')\n",
    "\n",
    "##Operação matemática\n",
    "if(operacao == '+'):    \n",
    "    resultado = x + y\n",
    "elif (operacao == '-'):\n",
    "    resultado = x - y\n",
    "elif (operacao == '*'):\n",
    "    resultado = x * y\n",
    "elif (operacao == '/'):\n",
    "    resultado = x/y\n",
    "else:\n",
    "    print('Operação inválida!')\n",
    "\n",
    "\n",
    "##Verificar informações sobre o numero\n",
    "if ((resultado%1) == 0):\n",
    "    decimal = 'inteiro'\n",
    "else:\n",
    "    decimal = 'decimal'\n",
    "\n",
    "\n",
    "if ((resultado%2) == 0):\n",
    "    par = 'par'\n",
    "else:    \n",
    "    par = 'impar'\n",
    "\n",
    "if(resultado > 0 ):\n",
    "    positivo = 'positivo'\n",
    "elif(resultado == 0):    \n",
    "    positivo = 'neutro'\n",
    "else:\n",
    "    positivo = 'negativo'\n",
    "\n",
    "\n",
    "print('O resultado da operação matemática foi', resultado,'que é um número:', decimal,',', par,'e', positivo)"
   ]
  },
  {
   "cell_type": "markdown",
   "metadata": {},
   "source": [
    "#### Questão 11\n",
    "Escreva um programa que peça à pessoa usuária três números que representam os lados de um triângulo. O programa deve informar se os valores podem ser utilizados para formar um triângulo e, caso afirmativo, se ele é equilátero, isósceles ou escaleno. Tenha em mente algumas dicas:\n",
    "- Três lados formam um triângulo quando a soma de quaisquer dois lados for maior que o terceiro;\n",
    "- Triângulo Equilátero: três lados iguais;\n",
    "- Triângulo Isósceles: quaisquer dois lados iguais;\n",
    "- Triângulo Escaleno: três lados diferentes;\n"
   ]
  },
  {
   "cell_type": "code",
   "execution_count": 25,
   "metadata": {},
   "outputs": [
    {
     "name": "stdout",
     "output_type": "stream",
     "text": [
      "Com os valores fornecidos, foi possíel obter um triângulo equilatero\n"
     ]
    }
   ],
   "source": [
    "lado1 = float(input('Digite o primeiro número: '))\n",
    "lado2 = float(input('Digite o segundo número: '))\n",
    "lado3 = float(input('Digite o terceiro número: '))\n",
    "\n",
    "##Verificar se é possível ser um triângulo\n",
    "if(lado1 + lado2 > lado3) and (lado2 +lado3 > lado1) and (lado1 + lado3 > lado2):    \n",
    "    triangulo = 'triangulo'\n",
    "    ##Verificar tipo de triangulo\n",
    "    if(lado1 == lado2 == lado3):\n",
    "        tipo = 'equilatero'\n",
    "    elif(lado1 != lado2 != lado3):\n",
    "        tipo = 'escaleno'\n",
    "    else:\n",
    "        tipo = 'isosceles'\n",
    "    \n",
    "    print('Com os valores fornecidos, foi possíel obter um triângulo', tipo)\n",
    "else:\n",
    "    print('Com os valores fornecidos, não foi possíel obter um triângulo')\n"
   ]
  },
  {
   "cell_type": "markdown",
   "metadata": {},
   "source": [
    "#### Questão 12\n",
    "Um estabelecimento está vendendo combustíveis com descontos variados. Para o etanol, se a quantidade comprada for até 15 litros, o desconto será de 2% por litro. Caso contrário, será de 4% por litro. Para o diesel, se a quantidade comprada for até 15 litros, o desconto será de 3% por litro. Caso contrário, será de 5% por litro. O preço do litro de diesel é R\\$ 2,00 e o preço do litro de etanol é R\\$ 1,70. Escreva um programa que leia a quantidade de litros vendidos e o tipo de combustível (E para etanol e D para diesel) e calcule o valor a ser pago pelo cliente. Tenha em mente algumas dicas:\n",
    "\n",
    "- O do valor do desconto será a multiplicação entre preço do litro, quantidade de litros e o valor do desconto.\n",
    "- O valor a ser pago por um cliente será o resultado da multiplicação do preço do litro pela quantidade de litros menos o valor de desconto resultante do cálculo.\n"
   ]
  },
  {
   "cell_type": "code",
   "execution_count": 27,
   "metadata": {},
   "outputs": [
    {
     "name": "stdout",
     "output_type": "stream",
     "text": [
      "O valor total a ser pago pelo combustivel E é de 24.99\n"
     ]
    }
   ],
   "source": [
    "combustivel = input('Qual combustivel será utilizado? (E para etanol e D para Diesel)').upper()\n",
    "quantidade = int(input('Quantos litros serão abastecidos?'))\n",
    "\n",
    "if(combustivel == 'E'):\n",
    "    if(quantidade <=15):\n",
    "        total = 1.7 * quantidade * 0.98\n",
    "    else:         \n",
    "        total = 1.7 * quantidade * 0.96\n",
    "elif(combustivel == 'D'):\n",
    "    if(quantidade <=15):\n",
    "        total = 1.7 * quantidade * 0.97\n",
    "    else: \n",
    "        total = 1.7 * quantidade * 0.95\n",
    "\n",
    "else:\n",
    "    print('Entrada inválida para tipo de combustível!')\n",
    "\n",
    "\n",
    "print('O valor total a ser pago pelo combustivel', combustivel, 'é de', total) "
   ]
  },
  {
   "cell_type": "markdown",
   "metadata": {},
   "source": [
    "#### Questão 13\n",
    "Em uma empresa de venda de imóveis você precisa criar um código que analise os dados de vendas anuais para ajudar a diretoria na tomada de decisão. O código precisa coletar os dados de quantidade de venda durante os anos de 2022 e 2023 e fazer um cálculo de variação percentual. A partir do valor da variação, deve ser enviada às seguintes sugestões:\n",
    "- Para variação acima de 20%: bonificação para o time de vendas.\n",
    "- Para variação entre 2% e 20%: pequena bonificação para time de vendas.\n",
    "- Para variação entre 2% e -10%: planejamento de políticas de incentivo às vendas.\n",
    "- Para bonificações abaixo de -10%: corte de gastos.\n"
   ]
  },
  {
   "cell_type": "code",
   "execution_count": 29,
   "metadata": {},
   "outputs": [
    {
     "name": "stdout",
     "output_type": "stream",
     "text": [
      "corte de gastos\n"
     ]
    }
   ],
   "source": [
    "vendas2022 = int(input('Digite o valor total de vendas em 2022:'))\n",
    "vendas2023 = int(input('Digite o valor total de vendas em 2023:'))\n",
    "\n",
    "vendas = 100 * ((vendas2023-vendas2022)/vendas2022)\n",
    "\n",
    "if (vendas >= 20):\n",
    "    print('bonificação para o time de vendas')\n",
    "elif (vendas >= 2):\n",
    "    print('pequena bonificação para time de vendas')\n",
    "elif (vendas >= -10):\n",
    "    print('planejamento de políticas de incentivo às vendas')\n",
    "else:\n",
    "    print('corte de gastos')\n",
    "\n",
    "\n"
   ]
  }
 ],
 "metadata": {
  "kernelspec": {
   "display_name": "Python 3",
   "language": "python",
   "name": "python3"
  },
  "language_info": {
   "codemirror_mode": {
    "name": "ipython",
    "version": 3
   },
   "file_extension": ".py",
   "mimetype": "text/x-python",
   "name": "python",
   "nbconvert_exporter": "python",
   "pygments_lexer": "ipython3",
   "version": "3.9.6"
  }
 },
 "nbformat": 4,
 "nbformat_minor": 2
}
